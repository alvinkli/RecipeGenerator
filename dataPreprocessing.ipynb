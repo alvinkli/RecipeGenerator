{
 "cells": [
  {
   "cell_type": "code",
   "execution_count": null,
   "metadata": {},
   "outputs": [],
   "source": [
    "\"\"\" \n",
    "LOAD DATASET\n",
    "\n",
    "Here we are loading the RecipeNLP dataset into a pandas DataFram\n",
    "and visualizing some of the inputs and labels.\n",
    "\n",
    "\"\"\"\n",
    "import pandas as pd \n",
    "\n",
    "df = pd.read_csv(\"RecipeNLG_dataset.csv\")"
   ]
  },
  {
   "cell_type": "code",
   "execution_count": null,
   "metadata": {},
   "outputs": [],
   "source": [
    "print(df.columns)\n",
    "for col in df.columns:\n",
    "  print(col)\n",
    "print(df['title'].head(5))"
   ]
  },
  {
   "cell_type": "code",
   "execution_count": null,
   "metadata": {},
   "outputs": [],
   "source": [
    "ingredients = df['ingredients']\n",
    "directions = df['directions']\n",
    "\n",
    "for direction in directions[:5]:\n",
    "  dir = ''.join(direction)\n",
    "  dir_2 = ''.join(dir)"
   ]
  }
 ],
 "metadata": {
  "language_info": {
   "name": "python"
  },
  "orig_nbformat": 4
 },
 "nbformat": 4,
 "nbformat_minor": 2
}
